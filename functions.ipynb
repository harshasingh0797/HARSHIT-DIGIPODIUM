{
 "cells": [
  {
   "cell_type": "code",
   "execution_count": 1,
   "metadata": {},
   "outputs": [],
   "source": [
    "def greetings ():\n",
    "    print('👍'*10)\n",
    "    print('congratulations')\n",
    "    print('👍'*10)"
   ]
  },
  {
   "cell_type": "code",
   "execution_count": 2,
   "metadata": {},
   "outputs": [
    {
     "data": {
      "text/plain": [
       "<function __main__.greetings()>"
      ]
     },
     "execution_count": 2,
     "metadata": {},
     "output_type": "execute_result"
    }
   ],
   "source": [
    "greetings\n"
   ]
  },
  {
   "cell_type": "code",
   "execution_count": 3,
   "metadata": {},
   "outputs": [
    {
     "name": "stdout",
     "output_type": "stream",
     "text": [
      "👍👍👍👍👍👍👍👍👍👍\n",
      "congratulations\n",
      "👍👍👍👍👍👍👍👍👍👍\n"
     ]
    }
   ],
   "source": [
    "greetings()#calling functions"
   ]
  },
  {
   "cell_type": "code",
   "execution_count": 4,
   "metadata": {},
   "outputs": [],
   "source": [
    "def hyp(p,b):\n",
    "    c= (p**2+b**2)**0.2\n",
    "    print(c)\n",
    "    \n"
   ]
  },
  {
   "cell_type": "code",
   "execution_count": 5,
   "metadata": {},
   "outputs": [
    {
     "name": "stdout",
     "output_type": "stream",
     "text": [
      "1.9036539387158786\n",
      "2.9435976987922756\n",
      "2.1016324782757847\n"
     ]
    }
   ],
   "source": [
    "hyp(3,4)\n",
    "hyp(10,11)\n",
    "hyp(4,5)"
   ]
  },
  {
   "cell_type": "code",
   "execution_count": 6,
   "metadata": {},
   "outputs": [],
   "source": [
    "def rect_area(length,breadth):\n",
    "    area=length*breadth\n",
    "    return area\n"
   ]
  },
  {
   "cell_type": "code",
   "execution_count": 7,
   "metadata": {},
   "outputs": [
    {
     "name": "stdout",
     "output_type": "stream",
     "text": [
      "130\n",
      "1200\n",
      "1330\n"
     ]
    }
   ],
   "source": [
    "a=rect_area(10,13)\n",
    "b=rect_area(30,40)\n",
    "print(a)\n",
    "print(b)\n",
    "print(a+b)"
   ]
  },
  {
   "cell_type": "code",
   "execution_count": 8,
   "metadata": {},
   "outputs": [],
   "source": [
    "from random import choice\n",
    "def roll_dice():\n",
    "    faces=['1️⃣','2️⃣','3','4','5','6']\n",
    "    chosen=choice(faces)\n",
    "    return chosen"
   ]
  },
  {
   "cell_type": "code",
   "execution_count": 9,
   "metadata": {},
   "outputs": [
    {
     "name": "stdout",
     "output_type": "stream",
     "text": [
      "4 2️⃣\n",
      "3 5\n",
      "4 2️⃣\n"
     ]
    }
   ],
   "source": [
    "print(roll_dice(),roll_dice())\n",
    "print(roll_dice(),roll_dice())\n",
    "print(roll_dice(),roll_dice())"
   ]
  },
  {
   "cell_type": "code",
   "execution_count": 10,
   "metadata": {},
   "outputs": [],
   "source": [
    "def get_total(price,bank_card):\n",
    "    if bank_card=='axis':\n",
    "        discount=price*0.10\n",
    "        return price-discount\n",
    "    elif bank_card=='bob':\n",
    "        discount=price*0.20\n",
    "        return price-discount\n",
    "    elif bank_card=='icici':\n",
    "        discount=price*0.50\n",
    "        cashback=2000\n",
    "        return price-discount-cashback\n",
    "    else:\n",
    "        return price\n",
    "    \n"
   ]
  },
  {
   "cell_type": "code",
   "execution_count": 11,
   "metadata": {},
   "outputs": [],
   "source": [
    "a=get_total(40000,'bob')\n",
    "b=get_total(40000,'axis')\n",
    "c=get_total(40000,'icici')\n",
    "\n",
    "\n"
   ]
  },
  {
   "cell_type": "code",
   "execution_count": null,
   "metadata": {},
   "outputs": [],
   "source": []
  }
 ],
 "metadata": {
  "kernelspec": {
   "display_name": "base",
   "language": "python",
   "name": "python3"
  },
  "language_info": {
   "codemirror_mode": {
    "name": "ipython",
    "version": 3
   },
   "file_extension": ".py",
   "mimetype": "text/x-python",
   "name": "python",
   "nbconvert_exporter": "python",
   "pygments_lexer": "ipython3",
   "version": "3.11.5"
  }
 },
 "nbformat": 4,
 "nbformat_minor": 2
}
