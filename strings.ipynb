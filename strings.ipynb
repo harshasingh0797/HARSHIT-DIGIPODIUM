{
 "cells": [
  {
   "cell_type": "code",
   "execution_count": 1,
   "metadata": {},
   "outputs": [
    {
     "name": "stdout",
     "output_type": "stream",
     "text": [
      "hello\n"
     ]
    }
   ],
   "source": [
    "my_string='hello'\n",
    "print(my_string)"
   ]
  },
  {
   "cell_type": "code",
   "execution_count": 2,
   "metadata": {},
   "outputs": [
    {
     "name": "stdout",
     "output_type": "stream",
     "text": [
      "hello\n"
     ]
    }
   ],
   "source": [
    "my_string=\"hello\"\n",
    "print(my_string)"
   ]
  },
  {
   "cell_type": "code",
   "execution_count": 4,
   "metadata": {},
   "outputs": [
    {
     "name": "stdout",
     "output_type": "stream",
     "text": [
      "hello\n"
     ]
    }
   ],
   "source": [
    "my_string = '''hello'''\n",
    "print(my_string)"
   ]
  },
  {
   "cell_type": "code",
   "execution_count": 7,
   "metadata": {},
   "outputs": [
    {
     "name": "stdout",
     "output_type": "stream",
     "text": [
      "hello,welcome to my \n",
      "world python\n"
     ]
    }
   ],
   "source": [
    "my_string=\"\"\"hello,welcome to my \n",
    "world python\"\"\"\n",
    "print (my_string)"
   ]
  },
  {
   "cell_type": "code",
   "execution_count": 10,
   "metadata": {},
   "outputs": [
    {
     "name": "stdout",
     "output_type": "stream",
     "text": [
      "str = DIGIPODIUM\n"
     ]
    }
   ],
   "source": [
    "\n",
    "str='DIGIPODIUM'\n",
    "print('str =',str)"
   ]
  },
  {
   "cell_type": "code",
   "execution_count": 11,
   "metadata": {},
   "outputs": [
    {
     "name": "stdout",
     "output_type": "stream",
     "text": [
      "str[0] D\n"
     ]
    }
   ],
   "source": [
    "print('str[0]',str[0])"
   ]
  },
  {
   "cell_type": "code",
   "execution_count": 12,
   "metadata": {},
   "outputs": [
    {
     "name": "stdout",
     "output_type": "stream",
     "text": [
      "str[1] I\n"
     ]
    }
   ],
   "source": [
    "print('str[1]',str[1])"
   ]
  },
  {
   "cell_type": "code",
   "execution_count": 13,
   "metadata": {},
   "outputs": [
    {
     "name": "stdout",
     "output_type": "stream",
     "text": [
      "str[2] G\n"
     ]
    }
   ],
   "source": [
    "print('str[2]',str[2])"
   ]
  },
  {
   "cell_type": "code",
   "execution_count": 14,
   "metadata": {},
   "outputs": [
    {
     "name": "stdout",
     "output_type": "stream",
     "text": [
      "str[3] I\n"
     ]
    }
   ],
   "source": [
    "print('str[3]',str[3])"
   ]
  },
  {
   "cell_type": "code",
   "execution_count": 15,
   "metadata": {},
   "outputs": [],
   "source": [
    "name='harsh singh vishen'"
   ]
  },
  {
   "cell_type": "code",
   "execution_count": 16,
   "metadata": {},
   "outputs": [
    {
     "data": {
      "text/plain": [
       "' singh v'"
      ]
     },
     "execution_count": 16,
     "metadata": {},
     "output_type": "execute_result"
    }
   ],
   "source": [
    "name[5:13]"
   ]
  },
  {
   "cell_type": "code",
   "execution_count": 18,
   "metadata": {},
   "outputs": [
    {
     "data": {
      "text/plain": [
       "'harsh'"
      ]
     },
     "execution_count": 18,
     "metadata": {},
     "output_type": "execute_result"
    }
   ],
   "source": [
    "name[:5]"
   ]
  },
  {
   "cell_type": "code",
   "execution_count": 20,
   "metadata": {},
   "outputs": [
    {
     "data": {
      "text/plain": [
       "'vishen'"
      ]
     },
     "execution_count": 20,
     "metadata": {},
     "output_type": "execute_result"
    }
   ],
   "source": [
    "name[-6:]"
   ]
  },
  {
   "cell_type": "code",
   "execution_count": 30,
   "metadata": {},
   "outputs": [],
   "source": [
    "username=\"@edward🤣😍😒👌\""
   ]
  },
  {
   "cell_type": "code",
   "execution_count": 31,
   "metadata": {},
   "outputs": [
    {
     "data": {
      "text/plain": [
       "'edward'"
      ]
     },
     "execution_count": 31,
     "metadata": {},
     "output_type": "execute_result"
    }
   ],
   "source": [
    "username[1:7]"
   ]
  },
  {
   "cell_type": "code",
   "execution_count": 34,
   "metadata": {},
   "outputs": [
    {
     "data": {
      "text/plain": [
       "'edward'"
      ]
     },
     "execution_count": 34,
     "metadata": {},
     "output_type": "execute_result"
    }
   ],
   "source": [
    "username[1:-4]"
   ]
  },
  {
   "cell_type": "code",
   "execution_count": 36,
   "metadata": {},
   "outputs": [
    {
     "name": "stdout",
     "output_type": "stream",
     "text": [
      "abcdef\n",
      "acegikmoqsuwy\n",
      "bdfhjlnprtvxz\n",
      "zyxwvutsrqponmlkjihgfedcba\n"
     ]
    }
   ],
   "source": [
    "english='abcdefghijklmnopqrstuvwxyz'\n",
    "print(english[:6])#select from 1 to 13\n",
    "print(english[::2])#select every 2nd character\n",
    "print(english[1::2])#select every 2nd character\n",
    "print(english[::-1])#reverse the string"
   ]
  },
  {
   "cell_type": "code",
   "execution_count": 38,
   "metadata": {},
   "outputs": [
    {
     "name": "stdout",
     "output_type": "stream",
     "text": [
      "the quick \n",
      "e lazy dog\n"
     ]
    }
   ],
   "source": [
    "msg='the quick brown fox jumps over the lazy dog'\n",
    "print(msg[:10])\n",
    "print(msg[-10:])"
   ]
  },
  {
   "cell_type": "code",
   "execution_count": 42,
   "metadata": {},
   "outputs": [
    {
     "name": "stdout",
     "output_type": "stream",
     "text": [
      "E\n",
      "ऽ\n",
      "き\n"
     ]
    }
   ],
   "source": [
    "x=chr(69)\n",
    "print(x)\n",
    "x=chr(2365)\n",
    "print(x)\n",
    "x=chr(12365)\n",
    "print(x)"
   ]
  },
  {
   "cell_type": "code",
   "execution_count": 43,
   "metadata": {},
   "outputs": [
    {
     "name": "stdout",
     "output_type": "stream",
     "text": [
      "65\n",
      "97\n",
      "123\n"
     ]
    }
   ],
   "source": [
    "y=ord('A')\n",
    "print(y)\n",
    "y=ord('a')\n",
    "print(y)\n",
    "y=ord('{')\n",
    "print(y)"
   ]
  },
  {
   "cell_type": "code",
   "execution_count": 45,
   "metadata": {},
   "outputs": [
    {
     "name": "stdout",
     "output_type": "stream",
     "text": [
      "applejuice\n"
     ]
    }
   ],
   "source": [
    "a='apple'\n",
    "b='juice'\n",
    "ab=a+b\n",
    "print(ab)"
   ]
  },
  {
   "cell_type": "code",
   "execution_count": 47,
   "metadata": {},
   "outputs": [
    {
     "name": "stdout",
     "output_type": "stream",
     "text": [
      "thisisamazing\n"
     ]
    }
   ],
   "source": [
    "w1='this'\n",
    "w2='is'\n",
    "w3='amazing'\n",
    "msg=w1 + w2+w3\n",
    "print(msg)"
   ]
  },
  {
   "cell_type": "code",
   "execution_count": 48,
   "metadata": {},
   "outputs": [
    {
     "name": "stdout",
     "output_type": "stream",
     "text": [
      "thisisamazing\n"
     ]
    }
   ],
   "source": [
    "msg=w1+''+w2+''+w3\n",
    "print(msg)"
   ]
  },
  {
   "cell_type": "code",
   "execution_count": 50,
   "metadata": {},
   "outputs": [
    {
     "name": "stdout",
     "output_type": "stream",
     "text": [
      "hihihihihi\n",
      "------------\n"
     ]
    }
   ],
   "source": [
    "word='hi'\n",
    "print(word*5)\n",
    "print('-'*12)"
   ]
  },
  {
   "cell_type": "code",
   "execution_count": 3,
   "metadata": {},
   "outputs": [
    {
     "name": "stdout",
     "output_type": "stream",
     "text": [
      "9\n",
      "5\n",
      "-1\n"
     ]
    }
   ],
   "source": [
    "msg='fuck the fucking fucker before fucking fucker fuck you'\n",
    "print(msg.find('fucking'))\n",
    "print(msg.find('t'))\n",
    "print(msg.find('bear'))#-1 means not found"
   ]
  },
  {
   "cell_type": "code",
   "execution_count": 5,
   "metadata": {},
   "outputs": [
    {
     "name": "stdout",
     "output_type": "stream",
     "text": [
      "fuck the sucker fucker before sucker fucker fuck you\n",
      "suck the sucking sucker besore sucking sucker suck you\n",
      "suck the sucking sucker after sucking sucker suck them\n"
     ]
    }
   ],
   "source": [
    "msg='fuck the fucking fucker before fucking fucker fuck you'\n",
    "print(msg.replace('fucking','sucker'))\n",
    "print(msg.replace('f','s'))\n",
    "print(msg.replace('fuck','suck').replace('you','them').replace('before','after'))"
   ]
  },
  {
   "cell_type": "code",
   "execution_count": null,
   "metadata": {},
   "outputs": [],
   "source": []
  },
  {
   "cell_type": "markdown",
   "metadata": {},
   "source": [
    "manipulation of string into list and vice versa\n",
    "1.split\n",
    "2.join\n",
    "3.strip"
   ]
  },
  {
   "cell_type": "code",
   "execution_count": 6,
   "metadata": {},
   "outputs": [
    {
     "name": "stdout",
     "output_type": "stream",
     "text": [
      "['fuck', 'the', 'fucking', 'fucker', 'before', 'fucking', 'fucker', 'fuck', 'you']\n",
      "['life before death', 'strength before weakness', 'journey before death']\n",
      "[' johny johny yes papa', 'eating sugar no papa', 'telling lies no papa ', 'open your mouth hahahs']\n"
     ]
    }
   ],
   "source": [
    "print(msg.split())\n",
    "msg2 = \"life before death,strength before weakness,journey before death\"\n",
    "print(msg2.split(','))\n",
    "poem=''' johny johny yes papa\n",
    "eating sugar no papa\n",
    "telling lies no papa \n",
    "open your mouth hahahs\n",
    "'''\n",
    "print(poem.splitlines())"
   ]
  },
  {
   "cell_type": "code",
   "execution_count": 7,
   "metadata": {},
   "outputs": [
    {
     "name": "stdout",
     "output_type": "stream",
     "text": [
      "a b c d\n",
      "a+b+c+d\n",
      "a,b,c,d\n",
      "a❤️b❤️c❤️d\n"
     ]
    }
   ],
   "source": [
    "x=['a','b','c','d']\n",
    "print(\" \".join(x))\n",
    "print(\"+\".join(x))\n",
    "print(\",\".join(x))\n",
    "print(\"❤️\".join(x))"
   ]
  },
  {
   "cell_type": "code",
   "execution_count": 8,
   "metadata": {},
   "outputs": [
    {
     "name": "stdout",
     "output_type": "stream",
     "text": [
      "apple\n",
      "rainbow\n",
      "unicorn\n",
      "ola\n"
     ]
    }
   ],
   "source": [
    "a=\"apple \"\n",
    "b=' rainbow'\n",
    "c=' unicorn '\n",
    "d='''\n",
    "ola\n",
    "'''\n",
    "print(a.strip())\n",
    "print(b.strip())\n",
    "print(c.strip())\n",
    "print(d.strip())\n"
   ]
  },
  {
   "cell_type": "markdown",
   "metadata": {},
   "source": [
    "count function"
   ]
  },
  {
   "cell_type": "code",
   "execution_count": 10,
   "metadata": {},
   "outputs": [
    {
     "name": "stdout",
     "output_type": "stream",
     "text": [
      "8\n",
      "2\n",
      "2\n",
      "0\n"
     ]
    }
   ],
   "source": [
    "sentences= '''once upon a time,\n",
    "in a land far far away,\n",
    "their lived a princess'''\n",
    "print(sentences.count('a'))\n",
    "print(sentences.count('far'))\n",
    "print(sentences.count('in'))\n",
    "print(sentences.count('unicorn'))\n"
   ]
  },
  {
   "cell_type": "markdown",
   "metadata": {},
   "source": [
    "formatting\n",
    "1.upper\n",
    "2.lower\n",
    "3.captalize\n",
    "4.title\n"
   ]
  },
  {
   "cell_type": "code",
   "execution_count": 11,
   "metadata": {},
   "outputs": [
    {
     "name": "stdout",
     "output_type": "stream",
     "text": [
      "FUCK THE FUCKING FUCKER BEFORE FUCKING FUCKER FUCK YOU\n",
      "fuck the fucking fucker before fucking fucker fuck you\n",
      "Fuck the fucking fucker before fucking fucker fuck you\n",
      "Fuck The Fucking Fucker Before Fucking Fucker Fuck You\n"
     ]
    }
   ],
   "source": [
    "print(msg.upper())\n",
    "print(msg.lower())\n",
    "print(msg.capitalize())\n",
    "print(msg.title())"
   ]
  },
  {
   "cell_type": "code",
   "execution_count": null,
   "metadata": {},
   "outputs": [],
   "source": []
  }
 ],
 "metadata": {
  "kernelspec": {
   "display_name": "base",
   "language": "python",
   "name": "python3"
  },
  "language_info": {
   "codemirror_mode": {
    "name": "ipython",
    "version": 3
   },
   "file_extension": ".py",
   "mimetype": "text/x-python",
   "name": "python",
   "nbconvert_exporter": "python",
   "pygments_lexer": "ipython3",
   "version": "3.11.5"
  }
 },
 "nbformat": 4,
 "nbformat_minor": 2
}
