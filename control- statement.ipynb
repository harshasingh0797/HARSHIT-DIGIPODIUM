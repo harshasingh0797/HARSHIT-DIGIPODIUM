{
 "cells": [
  {
   "cell_type": "code",
   "execution_count": null,
   "metadata": {},
   "outputs": [],
   "source": [
    "\n",
    "a =int(input(\"enter number\"))\n",
    "if a%7==0:\n",
    "    print('divisible by 7')\n",
    "    print('hurray')\n",
    "print('the end')"
   ]
  },
  {
   "cell_type": "code",
   "execution_count": null,
   "metadata": {},
   "outputs": [],
   "source": [
    "pwd=input('enter password')\n",
    "if len(pwd) >=8:\n",
    "    print('password is ok')\n",
    "else:\n",
    "    print('password is too short')\n"
   ]
  },
  {
   "cell_type": "code",
   "execution_count": null,
   "metadata": {},
   "outputs": [],
   "source": [
    "a =int(input(\"enter number\"))\n",
    "if a%2==0:\n",
    "    print('even number')\n",
    "else:\n",
    "    print('odd number')"
   ]
  },
  {
   "cell_type": "code",
   "execution_count": null,
   "metadata": {},
   "outputs": [],
   "source": [
    "marks=int(input('enter marks'))\n",
    "total=700\n",
    "pct=marks/total*100\n",
    "if pct >=90:\n",
    "    grade='A'\n",
    "elif pct>= 80:\n",
    "    grade='B'\n",
    "elif pct>= 70:\n",
    "    grade='C'\n",
    "elif pct>= 50:\n",
    "    grade='D'\n",
    "else:\n",
    "    grade='E'\n",
    "print(f'your report')\n",
    "print(f'percentage:{pct:.2f}%')\n",
    "print(f'grade:{grade}')"
   ]
  },
  {
   "cell_type": "markdown",
   "metadata": {},
   "source": []
  },
  {
   "cell_type": "code",
   "execution_count": null,
   "metadata": {},
   "outputs": [],
   "source": [
    "print(\"what is the square root of 16?\")\n",
    "ans=int(input(\"answer\"))\n",
    "\n",
    "match ans:\n",
    "    case 2: print('incorrect')\n",
    "    case 4: print('correct')\n",
    "    case _: print('this is absurd')\n",
    "    "
   ]
  },
  {
   "cell_type": "code",
   "execution_count": null,
   "metadata": {},
   "outputs": [],
   "source": [
    "movies=['leo','vikram','batman','ironman',\n",
    "        'avengers','doomsdays','rolex']\n",
    "for movie in movies:\n",
    "    print(movie)"
   ]
  },
  {
   "cell_type": "code",
   "execution_count": null,
   "metadata": {},
   "outputs": [],
   "source": [
    "for i in range(100,90,-2):\n",
    "    print(i)"
   ]
  },
  {
   "cell_type": "code",
   "execution_count": null,
   "metadata": {},
   "outputs": [],
   "source": [
    "#sum of all even numbers from 0 to 100\n",
    "total=0\n",
    "for a in range( 0,100, 2):\n",
    "    total += a\n",
    "print(total)\n",
    "\n",
    "\n"
   ]
  },
  {
   "cell_type": "code",
   "execution_count": null,
   "metadata": {},
   "outputs": [],
   "source": [
    "sum(range(0,100,2)) # same but pythonic"
   ]
  },
  {
   "cell_type": "code",
   "execution_count": null,
   "metadata": {},
   "outputs": [],
   "source": [
    "# wap to display a factorila of a number(chat gpt)"
   ]
  },
  {
   "cell_type": "markdown",
   "metadata": {},
   "source": []
  },
  {
   "cell_type": "markdown",
   "metadata": {},
   "source": [
    "while conditions \n",
    "statement 1\n",
    "....\n",
    "staement n"
   ]
  },
  {
   "cell_type": "code",
   "execution_count": 22,
   "metadata": {},
   "outputs": [
    {
     "name": "stdout",
     "output_type": "stream",
     "text": [
      "1\n",
      "2\n",
      "3\n",
      "4\n",
      "5\n",
      "6\n",
      "7\n",
      "8\n",
      "9\n"
     ]
    }
   ],
   "source": [
    "i=1\n",
    "while i<10:\n",
    "    print(i)\n",
    "    i+=1"
   ]
  },
  {
   "cell_type": "code",
   "execution_count": 25,
   "metadata": {},
   "outputs": [
    {
     "name": "stdout",
     "output_type": "stream",
     "text": [
      "you are not eligible\n"
     ]
    }
   ],
   "source": [
    "while True:\n",
    "    iq=int(input('ENTER IQ'))\n",
    "    if iq<120:\n",
    "        print('you are not eligible')\n",
    "        break\n",
    "    print('you need to learn more your iq is less')"
   ]
  },
  {
   "cell_type": "code",
   "execution_count": null,
   "metadata": {},
   "outputs": [],
   "source": []
  }
 ],
 "metadata": {
  "kernelspec": {
   "display_name": "base",
   "language": "python",
   "name": "python3"
  },
  "language_info": {
   "codemirror_mode": {
    "name": "ipython",
    "version": 3
   },
   "file_extension": ".py",
   "mimetype": "text/x-python",
   "name": "python",
   "nbconvert_exporter": "python",
   "pygments_lexer": "ipython3",
   "version": "3.11.5"
  }
 },
 "nbformat": 4,
 "nbformat_minor": 2
}
