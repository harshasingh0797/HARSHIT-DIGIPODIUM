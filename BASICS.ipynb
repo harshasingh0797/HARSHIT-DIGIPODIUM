{
 "cells": [
  {
   "cell_type": "code",
   "execution_count": 1,
   "metadata": {},
   "outputs": [],
   "source": [
    "a = 12\n",
    "b = 34\n",
    "c = 56"
   ]
  },
  {
   "cell_type": "code",
   "execution_count": 2,
   "metadata": {},
   "outputs": [],
   "source": [
    "name='harshit'"
   ]
  },
  {
   "cell_type": "code",
   "execution_count": 1,
   "metadata": {},
   "outputs": [
    {
     "name": "stdout",
     "output_type": "stream",
     "text": [
      "788.0\n",
      "1951538.2857142857\n"
     ]
    }
   ],
   "source": [
    "pi=22/7\n",
    "r=float(input('enter radius:'))\n",
    "area=pi*r**2\n",
    "print(r)\n",
    "print(area)\n",
    "\n"
   ]
  },
  {
   "cell_type": "code",
   "execution_count": null,
   "metadata": {},
   "outputs": [
    {
     "name": "stdout",
     "output_type": "stream",
     "text": [
      "a=12, b=34,c=56\n"
     ]
    }
   ],
   "source": [
    "#output susing f-string\n",
    "print(f'a={a}, b={b},c={c}')\n"
   ]
  },
  {
   "cell_type": "code",
   "execution_count": null,
   "metadata": {},
   "outputs": [
    {
     "name": "stdout",
     "output_type": "stream",
     "text": [
      "your details\n",
      "😊movie:rrrr\n",
      "food:rrrr\n"
     ]
    }
   ],
   "source": [
    "name=input('name:')\n",
    "fav_movie=input(\"your fav movie\")\n",
    "fav_food=input(\"your fav food\")\n",
    "print('your details')\n",
    "print(f\"😊movie:{fav_movie}\")\n",
    "print('favorite things')\n",
    "print(f\"food:{fav_movie}\")\n",
    "\n"
   ]
  }
 ],
 "metadata": {
  "kernelspec": {
   "display_name": "base",
   "language": "python",
   "name": "python3"
  },
  "language_info": {
   "codemirror_mode": {
    "name": "ipython",
    "version": 3
   },
   "file_extension": ".py",
   "mimetype": "text/x-python",
   "name": "python",
   "nbconvert_exporter": "python",
   "pygments_lexer": "ipython3",
   "version": "3.11.5"
  }
 },
 "nbformat": 4,
 "nbformat_minor": 2
}
